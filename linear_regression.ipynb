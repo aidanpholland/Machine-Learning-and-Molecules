{
  "nbformat": 4,
  "nbformat_minor": 0,
  "metadata": {
    "colab": {
      "provenance": [],
      "authorship_tag": "ABX9TyM9q1PFBevDAcvi5zRiMdAx",
      "include_colab_link": true
    },
    "kernelspec": {
      "name": "python3",
      "display_name": "Python 3"
    },
    "language_info": {
      "name": "python"
    }
  },
  "cells": [
    {
      "cell_type": "markdown",
      "metadata": {
        "id": "view-in-github",
        "colab_type": "text"
      },
      "source": [
        "<a href=\"https://colab.research.google.com/github/aidanpholland/Machine-Learning-and-Molecules/blob/main/linear_regression.ipynb\" target=\"_parent\"><img src=\"https://colab.research.google.com/assets/colab-badge.svg\" alt=\"Open In Colab\"/></a>"
      ]
    },
    {
      "cell_type": "markdown",
      "source": [],
      "metadata": {
        "id": "NLWMjniMP9hF"
      }
    },
    {
      "cell_type": "code",
      "source": [
        "import matplotlib.pyplot as plt\n",
        "import pandas as pd\n",
        "import numpy as np"
      ],
      "metadata": {
        "id": "6H0SPPvLQYd0"
      },
      "execution_count": 1,
      "outputs": []
    },
    {
      "cell_type": "markdown",
      "source": [
        "$y_{predicted} = b + wX$"
      ],
      "metadata": {
        "id": "JMOMSMdOITrU"
      }
    },
    {
      "cell_type": "code",
      "source": [
        "#working copy\n",
        "X_and_y = [(0, 1), (1, 3), (2, 2), (3, 5), (4, 7), (5, 8), (6, 8), (7, 9), (8, 10), (9, 12)]\n",
        "data = pd.DataFrame(X_and_y, columns=['X','y'])\n",
        "\n",
        "X = data['X']\n",
        "y = data['y']\n",
        "\n",
        "b = 0\n",
        "w = 1.5\n",
        "#linspace provides a num list of quantities between two numbers (min,max,num)\n",
        "\n",
        "epochs = 1\n",
        "#step count\n",
        "learning_rate = 0.01\n",
        "for epoch in range(epochs):\n",
        "  y_predicted = b + w*X\n",
        "  error = y - y_predicted\n",
        "  L2 = 0.5*np.mean(error**2)\n",
        "\n",
        "  gradient_b = -np.mean(error)\n",
        "  b = b - learning_rate * gradient_b\n",
        "  gradient_w = -np.mean(error*X)\n",
        "  w = w - learning_rate * gradient_w\n",
        "  # this is optimizing w for lowest error\n",
        "\n",
        "  if epoch%(epochs/10) == 0:\n",
        "    print(epoch,L2)\n",
        "    #if the remainder of a value divided by 10 is 0, print the epoch\n",
        "\n",
        "print(w,b)"
      ],
      "metadata": {
        "colab": {
          "base_uri": "https://localhost:8080/"
        },
        "id": "e1CdJPsCHlop",
        "outputId": "a14bad9f-0e4b-4e55-9c04-be9e49c3dd43"
      },
      "execution_count": 2,
      "outputs": [
        {
          "output_type": "stream",
          "name": "stdout",
          "text": [
            "0 0.7625\n",
            "1.4615 -0.0025\n"
          ]
        }
      ]
    },
    {
      "cell_type": "markdown",
      "source": [
        "$y_{predicted} = w_0X'_0 + w_1X'_1$"
      ],
      "metadata": {
        "id": "zcH--ozlIcTi"
      }
    },
    {
      "cell_type": "code",
      "source": [
        "X_and_y = [(0, 1), (1, 3), (2, 2), (3, 5), (4, 7), (5, 8), (6, 8), (7, 9), (8, 10), (9, 12)]\n",
        "data = pd.DataFrame(X_and_y, columns=['X','y'])\n",
        "\n",
        "X = data['X']\n",
        "N = len(X)\n",
        "ones = np.ones(N)\n",
        "Xp = np.c_[ones,X]\n",
        "y = data['y']\n",
        "y = y.values.reshape(1,-1)\n",
        "\n",
        "w = 2 * np.random.rand(2) - 1\n",
        "# np.array creates a vector\n",
        "# np.random.rand(#) produces a random amount of numbers\n",
        "\n",
        "epochs = 10000\n",
        "learning_rate = 0.01\n",
        "for epoch in range(epochs):\n",
        "  y_predicted = w @ Xp.T\n",
        "  error = y - y_predicted\n",
        "  L2 = 0.5*np.mean(error**2)\n",
        "\n",
        "  gradient = -(1/N) * error @ Xp\n",
        "  w = w - learning_rate * gradient\n",
        "\n",
        "  if epoch%(epochs/10) == 0:\n",
        "    print(epoch,L2)\n",
        "\n",
        "print(w)"
      ],
      "metadata": {
        "colab": {
          "base_uri": "https://localhost:8080/"
        },
        "id": "ZWIAD3z9QRRz",
        "outputId": "1ae858ea-fb95-42b7-fe27-b9f5e0a3edc6"
      },
      "execution_count": 3,
      "outputs": [
        {
          "output_type": "stream",
          "name": "stdout",
          "text": [
            "0 38.08613241586057\n",
            "1000 0.2812496721071124\n",
            "2000 0.2812122526048082\n",
            "3000 0.28121212167187154\n",
            "4000 0.28121212121372996\n",
            "5000 0.2812121212121269\n",
            "6000 0.28121212121212136\n",
            "7000 0.28121212121212125\n",
            "8000 0.28121212121212114\n",
            "9000 0.2812121212121212\n",
            "[[1.23636364 1.16969697]]\n"
          ]
        }
      ]
    },
    {
      "cell_type": "code",
      "source": [
        "plt.scatter(X,y)\n",
        "plt.plot(X,y_predicted.reshape(-1))"
      ],
      "metadata": {
        "id": "1MdV12vDSGs5",
        "colab": {
          "base_uri": "https://localhost:8080/",
          "height": 447
        },
        "outputId": "676cdce9-b972-4327-e42a-7522a937452f"
      },
      "execution_count": 4,
      "outputs": [
        {
          "output_type": "execute_result",
          "data": {
            "text/plain": [
              "[<matplotlib.lines.Line2D at 0x796b3ad0eb30>]"
            ]
          },
          "metadata": {},
          "execution_count": 4
        },
        {
          "output_type": "display_data",
          "data": {
            "text/plain": [
              "<Figure size 640x480 with 1 Axes>"
            ],
            "image/png": "[encoded data removed]"
          },
          "metadata": {}
        }
      ]
    }
  ]
}