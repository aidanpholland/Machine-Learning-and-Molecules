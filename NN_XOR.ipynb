{
  "nbformat": 4,
  "nbformat_minor": 0,
  "metadata": {
    "colab": {
      "provenance": [],
      "authorship_tag": "ABX9TyNHas9kT/qeplR3qJHzMs4t",
      "include_colab_link": true
    },
    "kernelspec": {
      "name": "python3",
      "display_name": "Python 3"
    },
    "language_info": {
      "name": "python"
    }
  },
  "cells": [
    {
      "cell_type": "markdown",
      "metadata": {
        "id": "view-in-github",
        "colab_type": "text"
      },
      "source": [
        "<a href=\"https://colab.research.google.com/github/aidanpholland/Machine-Learning-and-Molecules/blob/main/NN_XOR.ipynb\" target=\"_parent\"><img src=\"https://colab.research.google.com/assets/colab-badge.svg\" alt=\"Open In Colab\"/></a>"
      ]
    },
    {
      "cell_type": "markdown",
      "source": [],
      "metadata": {
        "id": "NLWMjniMP9hF"
      }
    },
    {
      "cell_type": "code",
      "source": [
        "import matplotlib.pyplot as plt\n",
        "import pandas as pd\n",
        "import numpy as np\n",
        "import seaborn as sbn"
      ],
      "metadata": {
        "id": "6H0SPPvLQYd0"
      },
      "execution_count": null,
      "outputs": []
    },
    {
      "cell_type": "code",
      "source": [
        "X_and_y = [[0,0,0], [0,1,1], [1,0,1], [1,1,0]]\n",
        "data = pd.DataFrame(X_and_y, columns = ['X1', 'X2', 'y'])\n"
      ],
      "metadata": {
        "id": "hln8wHPoCJ7l"
      },
      "execution_count": null,
      "outputs": []
    },
    {
      "cell_type": "code",
      "source": [
        "sbn.scatterplot(x = 'X1', y = 'X2', hue = 'y', data = data)"
      ],
      "metadata": {
        "colab": {
          "base_uri": "https://localhost:8080/",
          "height": 466
        },
        "id": "l9UKrTekL6u3",
        "outputId": "7d14efb3-d4ca-48d4-d414-0e1950736b4c"
      },
      "execution_count": null,
      "outputs": [
        {
          "output_type": "execute_result",
          "data": {
            "text/plain": [
              "<Axes: xlabel='X1', ylabel='X2'>"
            ]
          },
          "metadata": {},
          "execution_count": 5
        },
        {
          "output_type": "display_data",
          "data": {
            "text/plain": [
              "<Figure size 640x480 with 1 Axes>"
            ],
            "image/png": "[encoded data removed]"
          },
          "metadata": {}
        }
      ]
    },
    {
      "cell_type": "code",
      "source": [
        "def activation(x):\n",
        "  act = 1/(1 + np.exp(-x))\n",
        "  return act\n",
        "# this function receives an input value and decides whether that value becomes a 0 or a 1 (close)\n",
        "\n",
        "def d_activation(x):\n",
        "  d_act = x * (1 - x)\n",
        "  return d_act\n",
        "# for backpropagation in order to get a more fitting program using gradient"
      ],
      "metadata": {
        "id": "15NQ8DmiM0zv"
      },
      "execution_count": null,
      "outputs": []
    },
    {
      "cell_type": "code",
      "source": [
        "X = data[['X1', 'X2']]\n",
        "N = len(X)\n",
        "print(N)\n",
        "ones = np.ones((1,N))\n",
        "Xp = np.concatenate((ones.T, X), axis=1)\n",
        "# this somehow creates a proper matrix by combining ones with the coordinates\n",
        "y = data['y']\n",
        "y = y.values.reshape(1,-1)\n",
        "\n",
        "np.random.seed(0)\n",
        "wih = 2 * np.random.rand(2,3) - 1\n",
        "# 2 sets of 3 for input hidden given that we have to produce 2 hidden nodes\n",
        "who = 2 * np.random.rand(1,3) - 1\n",
        "# 1 set of 3 for hidden given that we have to produce 1 output node\n",
        "\n",
        "epochs = 100000\n",
        "learning_rate = 0.1\n",
        "for epoch in range(epochs):\n",
        "  Xih = wih @ Xp.T\n",
        "  # above creates a matrix of x and w\n",
        "  yh = activation(Xih)\n",
        "  # at this point we have two yhiddens for each node\n",
        "  yh = np.concatenate((ones, yh))\n",
        "  # a vector is created here with 3 values, the first being a 1\n",
        "  Xho = who @ yh\n",
        "  y_predicted = activation(Xho)\n",
        "  error = y - y_predicted\n",
        "  error_hidden = (error * d_activation(y_predicted)).T @ who[:,1:]\n",
        "  # [:,1:] removes the first term of a matrix, this is necessary because w0ho is not included?\n",
        "\n",
        "  gradient_ho = -(1/N) * (error * d_activation(y_predicted)) @ yh.T\n",
        "  gradient_ih = -(1/N) * (error_hidden.T * d_activation(yh[1:,:])) @ Xp\n",
        "\n",
        "  who = who - learning_rate * gradient_ho\n",
        "  wih = wih - learning_rate * gradient_ih\n",
        "\n",
        "  if epoch%(epochs/10) == 0:\n",
        "    L2 = 0.5*np.mean(error**2)\n",
        "    print(epoch,L2)\n",
        "\n",
        "print(y_predicted)"
      ],
      "metadata": {
        "colab": {
          "base_uri": "https://localhost:8080/"
        },
        "id": "ZWIAD3z9QRRz",
        "outputId": "34cfe13d-a291-4970-a9a0-4241eae02023"
      },
      "execution_count": null,
      "outputs": [
        {
          "output_type": "stream",
          "name": "stdout",
          "text": [
            "4\n",
            "0 0.1448906249407177\n",
            "10000 0.12362618330956573\n",
            "20000 0.08822559544292743\n",
            "30000 0.017657706448471318\n",
            "40000 0.0049403001931577145\n",
            "50000 0.0026579953968853182\n",
            "60000 0.001780972439476808\n",
            "70000 0.0013274367833144248\n",
            "80000 0.001053121729420891\n",
            "90000 0.0008703411750901073\n",
            "[[0.03995776 0.96451706 0.96458809 0.04257507]]\n"
          ]
        }
      ]
    },
    {
      "cell_type": "code",
      "source": [
        "data['y_predicted'] = y_predicted[0]\n",
        "data"
      ],
      "metadata": {
        "colab": {
          "base_uri": "https://localhost:8080/",
          "height": 175
        },
        "id": "79ImUSJcbEsn",
        "outputId": "a9fcb238-923e-45a8-a2a8-2185cb9dc1cd"
      },
      "execution_count": null,
      "outputs": [
        {
          "output_type": "execute_result",
          "data": {
            "text/plain": [
              "   X1  X2  y  y_predicted\n",
              "0   0   0  0     0.039958\n",
              "1   0   1  1     0.964517\n",
              "2   1   0  1     0.964588\n",
              "3   1   1  0     0.042575"
            ],
            "text/html": [
              "\n",
              "  <div id=\"df-b5c36b71-2fe8-4144-91f6-91ad77931af8\">\n",
              "    <div class=\"colab-df-container\">\n",
              "      <div>\n",
              "<style scoped>\n",
              "    .dataframe tbody tr th:only-of-type {\n",
              "        vertical-align: middle;\n",
              "    }\n",
              "\n",
              "    .dataframe tbody tr th {\n",
              "        vertical-align: top;\n",
              "    }\n",
              "\n",
              "    .dataframe thead th {\n",
              "        text-align: right;\n",
              "    }\n",
              "</style>\n",
              "<table border=\"1\" class=\"dataframe\">\n",
              "  <thead>\n",
              "    <tr style=\"text-align: right;\">\n",
              "      <th></th>\n",
              "      <th>X1</th>\n",
              "      <th>X2</th>\n",
              "      <th>y</th>\n",
              "      <th>y_predicted</th>\n",
              "    </tr>\n",
              "  </thead>\n",
              "  <tbody>\n",
              "    <tr>\n",
              "      <th>0</th>\n",
              "      <td>0</td>\n",
              "      <td>0</td>\n",
              "      <td>0</td>\n",
              "      <td>0.039958</td>\n",
              "    </tr>\n",
              "    <tr>\n",
              "      <th>1</th>\n",
              "      <td>0</td>\n",
              "      <td>1</td>\n",
              "      <td>1</td>\n",
              "      <td>0.964517</td>\n",
              "    </tr>\n",
              "    <tr>\n",
              "      <th>2</th>\n",
              "      <td>1</td>\n",
              "      <td>0</td>\n",
              "      <td>1</td>\n",
              "      <td>0.964588</td>\n",
              "    </tr>\n",
              "    <tr>\n",
              "      <th>3</th>\n",
              "      <td>1</td>\n",
              "      <td>1</td>\n",
              "      <td>0</td>\n",
              "      <td>0.042575</td>\n",
              "    </tr>\n",
              "  </tbody>\n",
              "</table>\n",
              "</div>\n",
              "      <button class=\"colab-df-convert\" onclick=\"convertToInteractive('df-b5c36b71-2fe8-4144-91f6-91ad77931af8')\"\n",
              "              title=\"Convert this dataframe to an interactive table.\"\n",
              "              style=\"display:none;\">\n",
              "        \n",
              "  <svg xmlns=\"http://www.w3.org/2000/svg\" height=\"24px\"viewBox=\"0 0 24 24\"\n",
              "       width=\"24px\">\n",
              "    <path d=\"M0 0h24v24H0V0z\" fill=\"none\"/>\n",
              "    <path d=\"M18.56 5.44l.94 2.06.94-2.06 2.06-.94-2.06-.94-.94-2.06-.94 2.06-2.06.94zm-11 1L8.5 8.5l.94-2.06 2.06-.94-2.06-.94L8.5 2.5l-.94 2.06-2.06.94zm10 10l.94 2.06.94-2.06 2.06-.94-2.06-.94-.94-2.06-.94 2.06-2.06.94z\"/><path d=\"M17.41 7.96l-1.37-1.37c-.4-.4-.92-.59-1.43-.59-.52 0-1.04.2-1.43.59L10.3 9.45l-7.72 7.72c-.78.78-.78 2.05 0 2.83L4 21.41c.39.39.9.59 1.41.59.51 0 1.02-.2 1.41-.59l7.78-7.78 2.81-2.81c.8-.78.8-2.07 0-2.86zM5.41 20L4 18.59l7.72-7.72 1.47 1.35L5.41 20z\"/>\n",
              "  </svg>\n",
              "      </button>\n",
              "      \n",
              "  <style>\n",
              "    .colab-df-container {\n",
              "      display:flex;\n",
              "      flex-wrap:wrap;\n",
              "      gap: 12px;\n",
              "    }\n",
              "\n",
              "    .colab-df-convert {\n",
              "      background-color: #E8F0FE;\n",
              "      border: none;\n",
              "      border-radius: 50%;\n",
              "      cursor: pointer;\n",
              "      display: none;\n",
              "      fill: #1967D2;\n",
              "      height: 32px;\n",
              "      padding: 0 0 0 0;\n",
              "      width: 32px;\n",
              "    }\n",
              "\n",
              "    .colab-df-convert:hover {\n",
              "      background-color: #E2EBFA;\n",
              "      box-shadow: 0px 1px 2px rgba(60, 64, 67, 0.3), 0px 1px 3px 1px rgba(60, 64, 67, 0.15);\n",
              "      fill: #174EA6;\n",
              "    }\n",
              "\n",
              "    [theme=dark] .colab-df-convert {\n",
              "      background-color: #3B4455;\n",
              "      fill: #D2E3FC;\n",
              "    }\n",
              "\n",
              "    [theme=dark] .colab-df-convert:hover {\n",
              "      background-color: #434B5C;\n",
              "      box-shadow: 0px 1px 3px 1px rgba(0, 0, 0, 0.15);\n",
              "      filter: drop-shadow(0px 1px 2px rgba(0, 0, 0, 0.3));\n",
              "      fill: #FFFFFF;\n",
              "    }\n",
              "  </style>\n",
              "\n",
              "      <script>\n",
              "        const buttonEl =\n",
              "          document.querySelector('#df-b5c36b71-2fe8-4144-91f6-91ad77931af8 button.colab-df-convert');\n",
              "        buttonEl.style.display =\n",
              "          google.colab.kernel.accessAllowed ? 'block' : 'none';\n",
              "\n",
              "        async function convertToInteractive(key) {\n",
              "          const element = document.querySelector('#df-b5c36b71-2fe8-4144-91f6-91ad77931af8');\n",
              "          const dataTable =\n",
              "            await google.colab.kernel.invokeFunction('convertToInteractive',\n",
              "                                                     [key], {});\n",
              "          if (!dataTable) return;\n",
              "\n",
              "          const docLinkHtml = 'Like what you see? Visit the ' +\n",
              "            '<a target=\"_blank\" href=https://colab.research.google.com/notebooks/data_table.ipynb>data table notebook</a>'\n",
              "            + ' to learn more about interactive tables.';\n",
              "          element.innerHTML = '';\n",
              "          dataTable['output_type'] = 'display_data';\n",
              "          await google.colab.output.renderOutput(dataTable, element);\n",
              "          const docLink = document.createElement('div');\n",
              "          docLink.innerHTML = docLinkHtml;\n",
              "          element.appendChild(docLink);\n",
              "        }\n",
              "      </script>\n",
              "    </div>\n",
              "  </div>\n",
              "  "
            ]
          },
          "metadata": {},
          "execution_count": 51
        }
      ]
    },
    {
      "cell_type": "code",
      "source": [
        "wih"
      ],
      "metadata": {
        "colab": {
          "base_uri": "https://localhost:8080/"
        },
        "id": "Rv7GFehibQ1S",
        "outputId": "e3f359c6-2259-4de4-a6f1-e3d6bf70d1cc"
      },
      "execution_count": null,
      "outputs": [
        {
          "output_type": "execute_result",
          "data": {
            "text/plain": [
              "array([[-3.01425729,  6.81166114,  6.77515438],\n",
              "       [ 7.24034885, -4.84113888, -4.83441662]])"
            ]
          },
          "metadata": {},
          "execution_count": 53
        }
      ]
    },
    {
      "cell_type": "markdown",
      "source": [],
      "metadata": {
        "id": "bY8VGQW4bQr8"
      }
    },
    {
      "cell_type": "code",
      "source": [
        "sbn.scatterplot(x = 'X1', y = 'X2', hue = 'y', data = data)\n",
        "decision_boundary1 = -(wih[0][0] + wih[0][1]*data['X1'])/(wih[0][2])\n",
        "decision_boundary2 = -(wih[1][0] + wih[1][1]*data['X2'])/(wih[1][2])\n",
        "plt.plot(data['X1'],decision_boundary1)\n",
        "plt.plot(data['X2'],decision_boundary2)"
      ],
      "metadata": {
        "colab": {
          "base_uri": "https://localhost:8080/",
          "height": 466
        },
        "id": "MRfEsyhE3kkZ",
        "outputId": "d1bcffeb-43c5-404e-87d6-1ad8c7f5dfb6"
      },
      "execution_count": null,
      "outputs": [
        {
          "output_type": "execute_result",
          "data": {
            "text/plain": [
              "[<matplotlib.lines.Line2D at 0x7f697edaabc0>]"
            ]
          },
          "metadata": {},
          "execution_count": 54
        },
        {
          "output_type": "display_data",
          "data": {
            "text/plain": [
              "<Figure size 640x480 with 1 Axes>"
            ],
            "image/png": "[encoded data removed]"
          },
          "metadata": {}
        }
      ]
    }
  ]
}